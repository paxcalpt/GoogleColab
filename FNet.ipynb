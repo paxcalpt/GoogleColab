{
  "nbformat": 4,
  "nbformat_minor": 0,
  "metadata": {
    "colab": {
      "name": "FNet.ipynb",
      "version": "0.3.2",
      "provenance": [],
      "include_colab_link": true
    },
    "kernelspec": {
      "name": "python3",
      "display_name": "Python 3"
    },
    "accelerator": "GPU"
  },
  "cells": [
    {
      "cell_type": "markdown",
      "metadata": {
        "id": "view-in-github",
        "colab_type": "text"
      },
      "source": [
        "[View in Colaboratory](https://colab.research.google.com/github/paxcalpt/GoogleColab/blob/master/FNet.ipynb)"
      ]
    },
    {
      "metadata": {
        "id": "hCR7vTX8nuZo",
        "colab_type": "toc"
      },
      "cell_type": "markdown",
      "source": [
        ">[This whole part is about installing dependencies](#scrollTo=NOOxS8DAmDBo)\n",
        "\n",
        ">[Installed! Now lets run some code...](#scrollTo=4Di4aN9ImKcr)\n",
        "\n"
      ]
    },
    {
      "metadata": {
        "id": "NOOxS8DAmDBo",
        "colab_type": "text"
      },
      "cell_type": "markdown",
      "source": [
        "# This whole part is about installing dependencies"
      ]
    },
    {
      "metadata": {
        "id": "hOdjtFirWdM7",
        "colab_type": "text"
      },
      "cell_type": "markdown",
      "source": [
        "Repository: https://github.com/AllenCellModeling/pytorch_fnet\n",
        "Paper: https://www.nature.com/articles/s41592-018-0111-2"
      ]
    },
    {
      "metadata": {
        "id": "TG2IHF34kn0s",
        "colab_type": "code",
        "colab": {}
      },
      "cell_type": "code",
      "source": [
        "# This is a generic piece of code that gives us some info about our GPU\n",
        "# original source: https://stackoverflow.com/questions/48750199/google-colaboratory-misleading-information-about-its-gpu-only-5-ram-available\n",
        "\n",
        "# packages to get memory footprint\n",
        "!ln -sf /opt/bin/nvidia-smi /usr/bin/nvidia-smi\n",
        "!pip install gputil\n",
        "!pip install psutil\n",
        "!pip install humanize\n",
        "\n",
        "# show memory footprint\n",
        "import psutil\n",
        "import humanize\n",
        "import os\n",
        "import GPUtil as GPU\n",
        "GPUs = GPU.getGPUs()\n",
        "# XXX: only one GPU on Colab and isn’t guaranteed\n",
        "gpu = GPUs[0]\n",
        "def printm():\n",
        " process = psutil.Process(os.getpid())\n",
        " print(\"Gen RAM Free: \" + humanize.naturalsize( psutil.virtual_memory().available ), \" | Proc size: \" + humanize.naturalsize( process.memory_info().rss))\n",
        " print(\"GPU RAM Free: {0:.0f}MB | Used: {1:.0f}MB | Util {2:3.0f}% | Total {3:.0f}MB\".format(gpu.memoryFree, gpu.memoryUsed, gpu.memoryUtil*100, gpu.memoryTotal))\n",
        "printm()\n"
      ],
      "execution_count": 0,
      "outputs": []
    },
    {
      "metadata": {
        "id": "nqZA8OOalXu9",
        "colab_type": "code",
        "colab": {}
      },
      "cell_type": "code",
      "source": [
        "# Now install pytorch plus dependencies of FNet\n",
        "\n",
        "# install pytorch 4.1 - source https://goosemi.wordpress.com/2018/09/15/how-to-get-cuda-9-2-backend-for-pytorch-0-4-1-on-google-colab/\n",
        "!git clone https://gist.github.com/f7b7c7758a46da49f84bc68b47997d69.git\n",
        "!bash f7b7c7758a46da49f84bc68b47997d69/pytorch041_cuda92_colab.sh\n",
        "\n",
        "# install other dependencies\n",
        "!pip install matplotlib==2.1.1\n",
        "!pip install pandas>=0.21.1\n",
        "!pip install tifffile==0.12.1\n",
        "!pip install tqdm==4.19.5\n",
        "!pip install scikit-learn==0.19.1\n",
        "!pip install argschema\n",
        "!pip install cython\n",
        "!pip install numpy\n",
        "!pip install pytest\n",
        "!pip install scipy\n",
        "!pip install torchvision\n",
        "!pip install tqdm\n",
        "!pip install czifile\n"
      ],
      "execution_count": 0,
      "outputs": []
    },
    {
      "metadata": {
        "id": "0QaToegIlu8R",
        "colab_type": "code",
        "colab": {}
      },
      "cell_type": "code",
      "source": [
        "# Now lets install the FNet environment\n",
        "\n",
        "!git clone https://github.com/AllenCellModeling/pytorch_fnet.git\n",
        "  \n",
        "# changing directory to FNet\n",
        "import os\n",
        "if os.getcwd()!=\"/content/pytorch_fnet\": os.chdir(\"pytorch_fnet\")\n",
        "  "
      ],
      "execution_count": 0,
      "outputs": []
    },
    {
      "metadata": {
        "id": "GJfGnve8om9h",
        "colab_type": "code",
        "colab": {
          "base_uri": "https://localhost:8080/",
          "height": 578
        },
        "outputId": "e45915fb-ad08-412d-da7e-d6396dbb202a"
      },
      "cell_type": "code",
      "source": [
        "# Lets check that FNet is working...\n",
        "!./scripts/test_run.sh\n"
      ],
      "execution_count": 7,
      "outputs": [
        {
          "output_type": "stream",
          "text": [
            "DEBUG: Initializing new model!\n",
            "*** Model ***\n",
            "tests.data.nn_test.Net(**{})\n",
            "iter: 0\n",
            "gpu: [-1]\n",
            "{'npatches': 192}\n",
            "100% 1/1 [00:00<00:00,  3.46it/s]\n",
            "{'buffer_size': 1, 'buffer_switch_frequency': -1, 'npatches': 96}\n",
            "100% 1/1 [00:00<00:00,  4.92it/s]\n",
            "num_iter:      1 | loss_batch: 4749207.500 | loss_val: None\n",
            "num_iter:      2 | loss_batch: 1480366.250 | loss_val: None\n",
            "num_iter:      3 | loss_batch: 434540.000 | loss_val: None\n",
            "num_iter:      4 | loss_batch: 540763.500 | loss_val: None\n",
            "num_iter:      5 | loss_batch: 624523.188 | loss_val: None\n",
            "  loss_val_batch: 388161.750\n",
            "  loss_val_batch: 389387.469\n",
            "  loss_val_batch: 384361.062\n",
            "  loss_val_batch: 389560.719\n",
            "num_iter:      6 | loss_batch: 484820.156 | loss_val: 387867.75\n",
            "BufferedPatchDataset buffer history: [0]\n",
            "loss log saved to: saved_models/TEST/losses.csv\n",
            "model saved to: saved_models/TEST/model.p\n",
            "elapsed time: 5.2 s\n",
            "num_iter:      7 | loss_batch: 388687.656 | loss_val: None\n",
            "  loss_val_batch: 391909.750\n",
            "  loss_val_batch: 393368.781\n",
            "  loss_val_batch: 389926.406\n",
            "  loss_val_batch: 392026.750\n",
            "num_iter:      8 | loss_batch: 400063.969 | loss_val: 391807.921875\n",
            "BufferedPatchDataset buffer history: [0]\n",
            "loss log saved to: saved_models/TEST/losses.csv\n",
            "model saved to: saved_models/TEST/model.p\n",
            "elapsed time: 7.7 s\n"
          ],
          "name": "stdout"
        }
      ]
    },
    {
      "metadata": {
        "id": "4Di4aN9ImKcr",
        "colab_type": "text"
      },
      "cell_type": "markdown",
      "source": [
        "# Installed! Now lets run some code..."
      ]
    },
    {
      "metadata": {
        "id": "zyVIfggxlL87",
        "colab_type": "code",
        "colab": {}
      },
      "cell_type": "code",
      "source": [
        ""
      ],
      "execution_count": 0,
      "outputs": []
    }
  ]
}